{
 "cells": [
  {
   "cell_type": "code",
   "execution_count": 1,
   "metadata": {},
   "outputs": [
    {
     "name": "stderr",
     "output_type": "stream",
     "text": [
      "D:\\Anaconda3\\lib\\site-packages\\sklearn\\externals\\joblib\\__init__.py:15: DeprecationWarning: sklearn.externals.joblib is deprecated in 0.21 and will be removed in 0.23. Please import this functionality directly from joblib, which can be installed with: pip install joblib. If this warning is raised when loading pickled models, you may need to re-serialize those models with scikit-learn 0.21+.\n",
      "  warnings.warn(msg, category=DeprecationWarning)\n"
     ]
    }
   ],
   "source": [
    "import pandas as pd\n",
    "import numpy as np\n",
    "from math import ceil\n",
    "from pandas import DataFrame\n",
    "from datetime import datetime\n",
    "from sklearn.cluster import KMeans\n",
    "from pandas import Series\n",
    "from sklearn.externals import joblib"
   ]
  },
  {
   "cell_type": "code",
   "execution_count": 177,
   "metadata": {},
   "outputs": [
    {
     "data": {
      "text/html": [
       "<div>\n",
       "<style scoped>\n",
       "    .dataframe tbody tr th:only-of-type {\n",
       "        vertical-align: middle;\n",
       "    }\n",
       "\n",
       "    .dataframe tbody tr th {\n",
       "        vertical-align: top;\n",
       "    }\n",
       "\n",
       "    .dataframe thead th {\n",
       "        text-align: right;\n",
       "    }\n",
       "</style>\n",
       "<table border=\"1\" class=\"dataframe\">\n",
       "  <thead>\n",
       "    <tr style=\"text-align: right;\">\n",
       "      <th></th>\n",
       "      <th>用户编码</th>\n",
       "      <th>首次投资时间</th>\n",
       "      <th>最近一次投资时间</th>\n",
       "      <th>总计投资总金额</th>\n",
       "      <th>总计投标总次数</th>\n",
       "    </tr>\n",
       "  </thead>\n",
       "  <tbody>\n",
       "    <tr>\n",
       "      <th>0</th>\n",
       "      <td>45B3CCE7-957B-4D54-9626-6D62731D119B</td>\n",
       "      <td>2016-06-25</td>\n",
       "      <td>2016-06-26</td>\n",
       "      <td>20000.0</td>\n",
       "      <td>3</td>\n",
       "    </tr>\n",
       "    <tr>\n",
       "      <th>1</th>\n",
       "      <td>9921C535-75FC-4695-8551-32B8D717B4A5</td>\n",
       "      <td>2016-06-26</td>\n",
       "      <td>2016-06-26</td>\n",
       "      <td>50000.0</td>\n",
       "      <td>3</td>\n",
       "    </tr>\n",
       "    <tr>\n",
       "      <th>2</th>\n",
       "      <td>2F00D4E3-CC7D-4DB1-B210-6F095156C5B8</td>\n",
       "      <td>2016-06-13</td>\n",
       "      <td>2016-06-19</td>\n",
       "      <td>108000.0</td>\n",
       "      <td>4</td>\n",
       "    </tr>\n",
       "    <tr>\n",
       "      <th>3</th>\n",
       "      <td>150218D8-BF32-406D-A3A8-8A19CB1E85AA</td>\n",
       "      <td>2016-06-16</td>\n",
       "      <td>2016-06-16</td>\n",
       "      <td>30000.0</td>\n",
       "      <td>3</td>\n",
       "    </tr>\n",
       "    <tr>\n",
       "      <th>4</th>\n",
       "      <td>98C26D4A-708F-4334-B3D7-EDAE9FD240C8</td>\n",
       "      <td>2016-06-27</td>\n",
       "      <td>2016-06-27</td>\n",
       "      <td>100000.0</td>\n",
       "      <td>3</td>\n",
       "    </tr>\n",
       "  </tbody>\n",
       "</table>\n",
       "</div>"
      ],
      "text/plain": [
       "                                   用户编码     首次投资时间   最近一次投资时间   总计投资总金额  \\\n",
       "0  45B3CCE7-957B-4D54-9626-6D62731D119B 2016-06-25 2016-06-26   20000.0   \n",
       "1  9921C535-75FC-4695-8551-32B8D717B4A5 2016-06-26 2016-06-26   50000.0   \n",
       "2  2F00D4E3-CC7D-4DB1-B210-6F095156C5B8 2016-06-13 2016-06-19  108000.0   \n",
       "3  150218D8-BF32-406D-A3A8-8A19CB1E85AA 2016-06-16 2016-06-16   30000.0   \n",
       "4  98C26D4A-708F-4334-B3D7-EDAE9FD240C8 2016-06-27 2016-06-27  100000.0   \n",
       "\n",
       "   总计投标总次数  \n",
       "0        3  \n",
       "1        3  \n",
       "2        4  \n",
       "3        3  \n",
       "4        3  "
      ]
     },
     "execution_count": 177,
     "metadata": {},
     "output_type": "execute_result"
    }
   ],
   "source": [
    "data = pd.read_excel('RFM聚类分析数据源.xlsx',encoding = 'UTF-8') # 读取原始数据，指定UTF-8编码\n",
    "\n",
    "data.head()"
   ]
  },
  {
   "cell_type": "code",
   "execution_count": 178,
   "metadata": {},
   "outputs": [
    {
     "name": "stdout",
     "output_type": "stream",
     "text": [
      "2016-07-20 00:00:00\n"
     ]
    }
   ],
   "source": [
    "deadline_time = datetime(2016,7,20)\n",
    "print(deadline_time)\n",
    "# 时间相减 得到天数 timedelta64类型\n",
    "diff_R = deadline_time - data[\"最近一次投资时间\"]\n",
    "R = []\n",
    "for i in diff_R:\n",
    "    days = i.days\n",
    "    R.append(days)"
   ]
  },
  {
   "cell_type": "code",
   "execution_count": 179,
   "metadata": {},
   "outputs": [
    {
     "data": {
      "text/plain": [
       "0   25 days\n",
       "1   24 days\n",
       "2   37 days\n",
       "3   34 days\n",
       "4   23 days\n",
       "Name: 首次投资时间, dtype: timedelta64[ns]"
      ]
     },
     "execution_count": 179,
     "metadata": {},
     "output_type": "execute_result"
    }
   ],
   "source": [
    "'''\n",
    "用户在投时长(月\n",
    "Python没有直接获取月数差的函数\n",
    "1、获取用户在投天数\n",
    "2、月=在投天数/30，向上取整\n",
    "'''\n",
    "diff = deadline_time - data[\"首次投资时间\"]\n",
    "diff.head()"
   ]
  },
  {
   "cell_type": "code",
   "execution_count": 180,
   "metadata": {},
   "outputs": [
    {
     "data": {
      "text/plain": [
       "[1, 1, 2, 2, 1]"
      ]
     },
     "execution_count": 180,
     "metadata": {},
     "output_type": "execute_result"
    }
   ],
   "source": [
    "# 利用向上取整函数\n",
    "months = []\n",
    "for i in diff:\n",
    "    month = ceil(i.days/30)\n",
    "    months.append(month)\n",
    "\n",
    "months[0:5]"
   ]
  },
  {
   "cell_type": "code",
   "execution_count": 181,
   "metadata": {},
   "outputs": [
    {
     "data": {
      "text/plain": [
       "array([3. , 3. , 2. , 1.5, 3. ])"
      ]
     },
     "execution_count": 181,
     "metadata": {},
     "output_type": "execute_result"
    }
   ],
   "source": [
    "# 月均投资次数\n",
    "month_ave = data[\"总计投标总次数\"]/months\n",
    "F = month_ave.values\n",
    "F[0:5]"
   ]
  },
  {
   "cell_type": "code",
   "execution_count": 182,
   "metadata": {},
   "outputs": [
    {
     "data": {
      "text/plain": [
       "array([ 20000.,  50000.,  54000.,  15000., 100000.])"
      ]
     },
     "execution_count": 182,
     "metadata": {},
     "output_type": "execute_result"
    }
   ],
   "source": [
    "# 月均投资金额\n",
    "M = (data[\"总计投资总金额\"]/months).values\n",
    "M[0:5]"
   ]
  },
  {
   "cell_type": "code",
   "execution_count": 183,
   "metadata": {},
   "outputs": [
    {
     "data": {
      "text/html": [
       "<div>\n",
       "<style scoped>\n",
       "    .dataframe tbody tr th:only-of-type {\n",
       "        vertical-align: middle;\n",
       "    }\n",
       "\n",
       "    .dataframe tbody tr th {\n",
       "        vertical-align: top;\n",
       "    }\n",
       "\n",
       "    .dataframe thead th {\n",
       "        text-align: right;\n",
       "    }\n",
       "</style>\n",
       "<table border=\"1\" class=\"dataframe\">\n",
       "  <thead>\n",
       "    <tr style=\"text-align: right;\">\n",
       "      <th></th>\n",
       "      <th>R-最近一次投资时间距提数日的天数</th>\n",
       "      <th>F-月均投资次数</th>\n",
       "      <th>M-月均投资金额</th>\n",
       "    </tr>\n",
       "  </thead>\n",
       "  <tbody>\n",
       "    <tr>\n",
       "      <th>0</th>\n",
       "      <td>24.0</td>\n",
       "      <td>3.0</td>\n",
       "      <td>20000.0</td>\n",
       "    </tr>\n",
       "    <tr>\n",
       "      <th>1</th>\n",
       "      <td>24.0</td>\n",
       "      <td>3.0</td>\n",
       "      <td>50000.0</td>\n",
       "    </tr>\n",
       "    <tr>\n",
       "      <th>2</th>\n",
       "      <td>31.0</td>\n",
       "      <td>2.0</td>\n",
       "      <td>54000.0</td>\n",
       "    </tr>\n",
       "    <tr>\n",
       "      <th>3</th>\n",
       "      <td>34.0</td>\n",
       "      <td>1.5</td>\n",
       "      <td>15000.0</td>\n",
       "    </tr>\n",
       "    <tr>\n",
       "      <th>4</th>\n",
       "      <td>23.0</td>\n",
       "      <td>3.0</td>\n",
       "      <td>100000.0</td>\n",
       "    </tr>\n",
       "  </tbody>\n",
       "</table>\n",
       "</div>"
      ],
      "text/plain": [
       "   R-最近一次投资时间距提数日的天数  F-月均投资次数  M-月均投资金额\n",
       "0               24.0       3.0   20000.0\n",
       "1               24.0       3.0   50000.0\n",
       "2               31.0       2.0   54000.0\n",
       "3               34.0       1.5   15000.0\n",
       "4               23.0       3.0  100000.0"
      ]
     },
     "execution_count": 183,
     "metadata": {},
     "output_type": "execute_result"
    }
   ],
   "source": [
    "cdata = DataFrame([R, list(F), list(M)]).T\n",
    "# 指定cdata的index和colums\n",
    "cdata.index = data.index\n",
    "cdata.columns = [\"R-最近一次投资时间距提数日的天数\", \"F-月均投资次数\", \"M-月均投资金额\"]\n",
    "cdata.head()"
   ]
  },
  {
   "cell_type": "code",
   "execution_count": 184,
   "metadata": {},
   "outputs": [
    {
     "data": {
      "text/html": [
       "<div>\n",
       "<style scoped>\n",
       "    .dataframe tbody tr th:only-of-type {\n",
       "        vertical-align: middle;\n",
       "    }\n",
       "\n",
       "    .dataframe tbody tr th {\n",
       "        vertical-align: top;\n",
       "    }\n",
       "\n",
       "    .dataframe thead th {\n",
       "        text-align: right;\n",
       "    }\n",
       "</style>\n",
       "<table border=\"1\" class=\"dataframe\">\n",
       "  <thead>\n",
       "    <tr style=\"text-align: right;\">\n",
       "      <th></th>\n",
       "      <th>R-最近一次投资时间距提数日的天数</th>\n",
       "      <th>F-月均投资次数</th>\n",
       "      <th>M-月均投资金额</th>\n",
       "    </tr>\n",
       "  </thead>\n",
       "  <tbody>\n",
       "    <tr>\n",
       "      <th>0</th>\n",
       "      <td>-0.356009</td>\n",
       "      <td>-0.032163</td>\n",
       "      <td>-0.175541</td>\n",
       "    </tr>\n",
       "    <tr>\n",
       "      <th>1</th>\n",
       "      <td>-0.356009</td>\n",
       "      <td>-0.032163</td>\n",
       "      <td>0.207898</td>\n",
       "    </tr>\n",
       "    <tr>\n",
       "      <th>2</th>\n",
       "      <td>-0.099838</td>\n",
       "      <td>-0.243671</td>\n",
       "      <td>0.259023</td>\n",
       "    </tr>\n",
       "    <tr>\n",
       "      <th>3</th>\n",
       "      <td>0.009949</td>\n",
       "      <td>-0.349425</td>\n",
       "      <td>-0.239448</td>\n",
       "    </tr>\n",
       "    <tr>\n",
       "      <th>4</th>\n",
       "      <td>-0.392605</td>\n",
       "      <td>-0.032163</td>\n",
       "      <td>0.846964</td>\n",
       "    </tr>\n",
       "  </tbody>\n",
       "</table>\n",
       "</div>"
      ],
      "text/plain": [
       "   R-最近一次投资时间距提数日的天数  F-月均投资次数  M-月均投资金额\n",
       "0          -0.356009 -0.032163 -0.175541\n",
       "1          -0.356009 -0.032163  0.207898\n",
       "2          -0.099838 -0.243671  0.259023\n",
       "3           0.009949 -0.349425 -0.239448\n",
       "4          -0.392605 -0.032163  0.846964"
      ]
     },
     "execution_count": 184,
     "metadata": {},
     "output_type": "execute_result"
    }
   ],
   "source": [
    "from sklearn.preprocessing import StandardScaler\n",
    "cdata=pd.DataFrame(StandardScaler().fit(cdata).transform(cdata)).rename(columns={0:'R-最近一次投资时间距提数日的天数',1:'F-月均投资次数',2:'M-月均投资金额'})\n",
    "cdata.head()"
   ]
  },
  {
   "cell_type": "code",
   "execution_count": 185,
   "metadata": {},
   "outputs": [],
   "source": [
    "#引入画图的包\n",
    "import matplotlib.pyplot as plt\n",
    "import seaborn as sns\n",
    "%matplotlib inline\n",
    "plt.style.use('ggplot')"
   ]
  },
  {
   "cell_type": "code",
   "execution_count": 186,
   "metadata": {},
   "outputs": [
    {
     "data": {
      "text/plain": [
       "<seaborn.axisgrid.FacetGrid at 0x54b07baef0>"
      ]
     },
     "execution_count": 186,
     "metadata": {},
     "output_type": "execute_result"
    },
    {
     "data": {
      "image/png": "[encoded data removed]",
      "text/plain": [
       "<Figure size 648x216 with 3 Axes>"
      ]
     },
     "metadata": {},
     "output_type": "display_data"
    }
   ],
   "source": [
    "sns.FacetGrid(cdata.stack().reset_index().rename(columns={'level_1':'特征'}),col='特征',sharex=False,sharey=False).map(sns.distplot,0)"
   ]
  },
  {
   "cell_type": "code",
   "execution_count": 187,
   "metadata": {},
   "outputs": [],
   "source": [
    "import numpy as np\n",
    "def 离散点替换(cdata,x):\n",
    "    cdata.loc[cdata[x]>=np.percentile(cdata[x],98),x]=np.percentile(cdata[x],98)\n",
    "离散点替换(cdata,'F-月均投资次数')\n",
    "离散点替换(cdata,'M-月均投资金额')"
   ]
  },
  {
   "cell_type": "code",
   "execution_count": 188,
   "metadata": {},
   "outputs": [
    {
     "data": {
      "text/plain": [
       "<seaborn.axisgrid.FacetGrid at 0x54b1c1b588>"
      ]
     },
     "execution_count": 188,
     "metadata": {},
     "output_type": "execute_result"
    },
    {
     "data": {
      "image/png": "[encoded data removed]",
      "text/plain": [
       "<Figure size 648x216 with 3 Axes>"
      ]
     },
     "metadata": {},
     "output_type": "display_data"
    }
   ],
   "source": [
    "sns.FacetGrid(cdata.stack().reset_index().rename(columns={'level_1':'特征'}),col='特征',sharex=False,sharey=False).map(sns.distplot,0)"
   ]
  },
  {
   "cell_type": "code",
   "execution_count": 189,
   "metadata": {},
   "outputs": [
    {
     "data": {
      "text/html": [
       "<div>\n",
       "<style scoped>\n",
       "    .dataframe tbody tr th:only-of-type {\n",
       "        vertical-align: middle;\n",
       "    }\n",
       "\n",
       "    .dataframe tbody tr th {\n",
       "        vertical-align: top;\n",
       "    }\n",
       "\n",
       "    .dataframe thead th {\n",
       "        text-align: right;\n",
       "    }\n",
       "</style>\n",
       "<table border=\"1\" class=\"dataframe\">\n",
       "  <thead>\n",
       "    <tr style=\"text-align: right;\">\n",
       "      <th></th>\n",
       "      <th>R-最近一次投资时间距提数日的天数</th>\n",
       "      <th>F-月均投资次数</th>\n",
       "      <th>M-月均投资金额</th>\n",
       "      <th>类别</th>\n",
       "    </tr>\n",
       "  </thead>\n",
       "  <tbody>\n",
       "    <tr>\n",
       "      <th>0</th>\n",
       "      <td>-0.356009</td>\n",
       "      <td>-0.032163</td>\n",
       "      <td>-0.175541</td>\n",
       "      <td>1</td>\n",
       "    </tr>\n",
       "    <tr>\n",
       "      <th>1</th>\n",
       "      <td>-0.356009</td>\n",
       "      <td>-0.032163</td>\n",
       "      <td>0.207898</td>\n",
       "      <td>1</td>\n",
       "    </tr>\n",
       "    <tr>\n",
       "      <th>2</th>\n",
       "      <td>-0.099838</td>\n",
       "      <td>-0.243671</td>\n",
       "      <td>0.259023</td>\n",
       "      <td>0</td>\n",
       "    </tr>\n",
       "    <tr>\n",
       "      <th>3</th>\n",
       "      <td>0.009949</td>\n",
       "      <td>-0.349425</td>\n",
       "      <td>-0.239448</td>\n",
       "      <td>0</td>\n",
       "    </tr>\n",
       "    <tr>\n",
       "      <th>4</th>\n",
       "      <td>-0.392605</td>\n",
       "      <td>-0.032163</td>\n",
       "      <td>0.846964</td>\n",
       "      <td>1</td>\n",
       "    </tr>\n",
       "  </tbody>\n",
       "</table>\n",
       "</div>"
      ],
      "text/plain": [
       "   R-最近一次投资时间距提数日的天数  F-月均投资次数  M-月均投资金额  类别\n",
       "0          -0.356009 -0.032163 -0.175541   1\n",
       "1          -0.356009 -0.032163  0.207898   1\n",
       "2          -0.099838 -0.243671  0.259023   0\n",
       "3           0.009949 -0.349425 -0.239448   0\n",
       "4          -0.392605 -0.032163  0.846964   1"
      ]
     },
     "execution_count": 189,
     "metadata": {},
     "output_type": "execute_result"
    }
   ],
   "source": [
    "Kmodol=KMeans(n_clusters=4, n_jobs=4, max_iter=100, random_state=0)\n",
    "Kmodol.fit(cdata)\n",
    "cdata['类别']=Kmodol.labels_\n",
    "cdata.head()"
   ]
  },
  {
   "cell_type": "code",
   "execution_count": 190,
   "metadata": {},
   "outputs": [],
   "source": [
    "import matplotlib.pyplot as plt\n",
    "plt.rcParams['font.sans-serif']=['SimHei'] #用来正常显示中文标签\n",
    "plt.rcParams['axes.unicode_minus']=False #用来正常显示负号"
   ]
  },
  {
   "cell_type": "code",
   "execution_count": 202,
   "metadata": {},
   "outputs": [
    {
     "data": {
      "image/png": "[encoded data removed]",
      "text/plain": [
       "<Figure size 432x288 with 1 Axes>"
      ]
     },
     "metadata": {},
     "output_type": "display_data"
    }
   ],
   "source": [
    "from sklearn.decomposition import PCA\n",
    "pca=PCA(n_components=2)\n",
    "x=['R-最近一次投资时间距提数日的天数','F-月均投资次数','M-月均投资金额']\n",
    "pca.fit(np.array(cdata[x]))\n",
    "cdata_pca=pd.DataFrame(pca.transform(np.array(cdata[x])))\n",
    "cdata_pca['类别']=cdata.类别\n",
    "for 类别 in cdata_pca.类别.unique():\n",
    "    plt.scatter(cdata_pca.loc[cdata_pca.类别==类别,0],cdata_pca.loc[cdata_pca.类别==类别,1],alpha=0.1)"
   ]
  },
  {
   "cell_type": "code",
   "execution_count": 193,
   "metadata": {},
   "outputs": [
    {
     "data": {
      "text/html": [
       "<div>\n",
       "<style scoped>\n",
       "    .dataframe tbody tr th:only-of-type {\n",
       "        vertical-align: middle;\n",
       "    }\n",
       "\n",
       "    .dataframe tbody tr th {\n",
       "        vertical-align: top;\n",
       "    }\n",
       "\n",
       "    .dataframe thead th {\n",
       "        text-align: right;\n",
       "    }\n",
       "</style>\n",
       "<table border=\"1\" class=\"dataframe\">\n",
       "  <thead>\n",
       "    <tr style=\"text-align: right;\">\n",
       "      <th></th>\n",
       "      <th>R-最近一次投资时间距提数日的天数</th>\n",
       "      <th>F-月均投资次数</th>\n",
       "      <th>M-月均投资金额</th>\n",
       "      <th>数量</th>\n",
       "    </tr>\n",
       "  </thead>\n",
       "  <tbody>\n",
       "    <tr>\n",
       "      <th>0</th>\n",
       "      <td>0.289433</td>\n",
       "      <td>-0.314164</td>\n",
       "      <td>-0.183901</td>\n",
       "      <td>14591</td>\n",
       "    </tr>\n",
       "    <tr>\n",
       "      <th>1</th>\n",
       "      <td>-0.803644</td>\n",
       "      <td>-0.052304</td>\n",
       "      <td>-0.106468</td>\n",
       "      <td>19529</td>\n",
       "    </tr>\n",
       "    <tr>\n",
       "      <th>2</th>\n",
       "      <td>-0.872031</td>\n",
       "      <td>1.406151</td>\n",
       "      <td>0.863040</td>\n",
       "      <td>5370</td>\n",
       "    </tr>\n",
       "    <tr>\n",
       "      <th>3</th>\n",
       "      <td>1.586791</td>\n",
       "      <td>-0.388323</td>\n",
       "      <td>-0.223294</td>\n",
       "      <td>10195</td>\n",
       "    </tr>\n",
       "  </tbody>\n",
       "</table>\n",
       "</div>"
      ],
      "text/plain": [
       "   R-最近一次投资时间距提数日的天数  F-月均投资次数  M-月均投资金额     数量\n",
       "0           0.289433 -0.314164 -0.183901  14591\n",
       "1          -0.803644 -0.052304 -0.106468  19529\n",
       "2          -0.872031  1.406151  0.863040   5370\n",
       "3           1.586791 -0.388323 -0.223294  10195"
      ]
     },
     "execution_count": 193,
     "metadata": {},
     "output_type": "execute_result"
    }
   ],
   "source": [
    "cluster_centers=pd.DataFrame(Kmodol.cluster_centers_).rename(columns={0:'R-最近一次投资时间距提数日的天数',1:'F-月均投资次数',2:'M-月均投资金额'})\n",
    "data1=pd.concat([cluster_centers,pd.Series(Kmodol.labels_).value_counts()],axis=1).rename(columns={0:'数量'})\n",
    "data1"
   ]
  },
  {
   "cell_type": "code",
   "execution_count": 194,
   "metadata": {},
   "outputs": [
    {
     "data": {
      "text/plain": [
       "[Text(0, 0, 'R-最近一次投资时间距提数日的天数'),\n",
       " Text(0, 0, 'F-月均投资次数'),\n",
       " Text(0, 0, 'M-月均投资金额')]"
      ]
     },
     "execution_count": 194,
     "metadata": {},
     "output_type": "execute_result"
    },
    {
     "data": {
      "image/png": "[encoded data removed]",
      "text/plain": [
       "<Figure size 864x576 with 2 Axes>"
      ]
     },
     "metadata": {},
     "output_type": "display_data"
    }
   ],
   "source": [
    "fig=plt.figure(figsize=(12,8))\n",
    "fig.add_subplot(211)\n",
    "data1.数量.plot(kind='bar')\n",
    "fig.add_subplot(212)\n",
    "for i in data1.drop('数量',axis=1).T.columns:\n",
    "    plt.plot(np.arange(1,len(data1.drop('数量',axis=1))),data1.drop('数量',axis=1).T[i])\n",
    "plt.legend()\n",
    "ax=plt.gca() \n",
    "ax.set_xticks(np.arange(1,len(data1.drop('数量',axis=1))))\n",
    "ax.set_xticklabels(data1.drop('数量',axis=1).columns)"
   ]
  },
  {
   "cell_type": "code",
   "execution_count": 196,
   "metadata": {},
   "outputs": [
    {
     "name": "stdout",
     "output_type": "stream",
     "text": [
      "1    19529\n",
      "0    14591\n",
      "3    10195\n",
      "2     5370\n",
      "dtype: int64\n"
     ]
    }
   ],
   "source": [
    "# 统计每个类别的频率\n",
    "value_counts = Series(Kmodol.labels_).value_counts()\n",
    "print(value_counts)"
   ]
  },
  {
   "cell_type": "code",
   "execution_count": 200,
   "metadata": {},
   "outputs": [
    {
     "data": {
      "text/html": [
       "<div>\n",
       "<style scoped>\n",
       "    .dataframe tbody tr th:only-of-type {\n",
       "        vertical-align: middle;\n",
       "    }\n",
       "\n",
       "    .dataframe tbody tr th {\n",
       "        vertical-align: top;\n",
       "    }\n",
       "\n",
       "    .dataframe thead th {\n",
       "        text-align: right;\n",
       "    }\n",
       "</style>\n",
       "<table border=\"1\" class=\"dataframe\">\n",
       "  <thead>\n",
       "    <tr style=\"text-align: right;\">\n",
       "      <th></th>\n",
       "      <th>R-最近一次投资时间距提数日的天数</th>\n",
       "      <th>F-月均投资次数</th>\n",
       "      <th>M-月均投资金额</th>\n",
       "      <th>类别</th>\n",
       "    </tr>\n",
       "  </thead>\n",
       "  <tbody>\n",
       "    <tr>\n",
       "      <th>0</th>\n",
       "      <td>-0.356009</td>\n",
       "      <td>-0.032163</td>\n",
       "      <td>-0.175541</td>\n",
       "      <td>1</td>\n",
       "    </tr>\n",
       "    <tr>\n",
       "      <th>1</th>\n",
       "      <td>-0.356009</td>\n",
       "      <td>-0.032163</td>\n",
       "      <td>0.207898</td>\n",
       "      <td>1</td>\n",
       "    </tr>\n",
       "    <tr>\n",
       "      <th>2</th>\n",
       "      <td>-0.099838</td>\n",
       "      <td>-0.243671</td>\n",
       "      <td>0.259023</td>\n",
       "      <td>0</td>\n",
       "    </tr>\n",
       "    <tr>\n",
       "      <th>3</th>\n",
       "      <td>0.009949</td>\n",
       "      <td>-0.349425</td>\n",
       "      <td>-0.239448</td>\n",
       "      <td>0</td>\n",
       "    </tr>\n",
       "    <tr>\n",
       "      <th>4</th>\n",
       "      <td>-0.392605</td>\n",
       "      <td>-0.032163</td>\n",
       "      <td>0.846964</td>\n",
       "      <td>1</td>\n",
       "    </tr>\n",
       "  </tbody>\n",
       "</table>\n",
       "</div>"
      ],
      "text/plain": [
       "   R-最近一次投资时间距提数日的天数  F-月均投资次数  M-月均投资金额  类别\n",
       "0          -0.356009 -0.032163 -0.175541   1\n",
       "1          -0.356009 -0.032163  0.207898   1\n",
       "2          -0.099838 -0.243671  0.259023   0\n",
       "3           0.009949 -0.349425 -0.239448   0\n",
       "4          -0.392605 -0.032163  0.846964   1"
      ]
     },
     "execution_count": 200,
     "metadata": {},
     "output_type": "execute_result"
    }
   ],
   "source": [
    "# 将类别标签赋回原来的数据\n",
    "cdata_rst = pd.concat([cdata, Series(Kmodol.labels_, index=cdata.index)], axis=1).drop(0,axis=1)\n",
    "cdata_rst.head()"
   ]
  },
  {
   "cell_type": "code",
   "execution_count": 201,
   "metadata": {},
   "outputs": [
    {
     "data": {
      "text/html": [
       "<div>\n",
       "<style scoped>\n",
       "    .dataframe tbody tr th:only-of-type {\n",
       "        vertical-align: middle;\n",
       "    }\n",
       "\n",
       "    .dataframe tbody tr th {\n",
       "        vertical-align: top;\n",
       "    }\n",
       "\n",
       "    .dataframe thead th {\n",
       "        text-align: right;\n",
       "    }\n",
       "</style>\n",
       "<table border=\"1\" class=\"dataframe\">\n",
       "  <thead>\n",
       "    <tr style=\"text-align: right;\">\n",
       "      <th></th>\n",
       "      <th>R-最近一次投资时间距提数日的天数</th>\n",
       "      <th>F-月均投资次数</th>\n",
       "      <th>M-月均投资金额</th>\n",
       "    </tr>\n",
       "    <tr>\n",
       "      <th>类别</th>\n",
       "      <th></th>\n",
       "      <th></th>\n",
       "      <th></th>\n",
       "    </tr>\n",
       "  </thead>\n",
       "  <tbody>\n",
       "    <tr>\n",
       "      <th>0</th>\n",
       "      <td>0.288508</td>\n",
       "      <td>-0.314055</td>\n",
       "      <td>-0.184197</td>\n",
       "    </tr>\n",
       "    <tr>\n",
       "      <th>1</th>\n",
       "      <td>-0.803969</td>\n",
       "      <td>-0.052327</td>\n",
       "      <td>-0.106699</td>\n",
       "    </tr>\n",
       "    <tr>\n",
       "      <th>2</th>\n",
       "      <td>-0.871445</td>\n",
       "      <td>1.404330</td>\n",
       "      <td>0.863352</td>\n",
       "    </tr>\n",
       "    <tr>\n",
       "      <th>3</th>\n",
       "      <td>1.586146</td>\n",
       "      <td>-0.388433</td>\n",
       "      <td>-0.223333</td>\n",
       "    </tr>\n",
       "  </tbody>\n",
       "</table>\n",
       "</div>"
      ],
      "text/plain": [
       "    R-最近一次投资时间距提数日的天数  F-月均投资次数  M-月均投资金额\n",
       "类别                                       \n",
       "0            0.288508 -0.314055 -0.184197\n",
       "1           -0.803969 -0.052327 -0.106699\n",
       "2           -0.871445  1.404330  0.863352\n",
       "3            1.586146 -0.388433 -0.223333"
      ]
     },
     "execution_count": 201,
     "metadata": {},
     "output_type": "execute_result"
    }
   ],
   "source": [
    "# 按照类别分组统计R, F, M的指标均值\n",
    "user_ret = cdata_rst.groupby(cdata_rst[\"类别\"]).mean()\n",
    "user_ret"
   ]
  },
  {
   "cell_type": "code",
   "execution_count": null,
   "metadata": {},
   "outputs": [],
   "source": []
  }
 ],
 "metadata": {
  "kernelspec": {
   "display_name": "Python 3",
   "language": "python",
   "name": "python3"
  },
  "language_info": {
   "codemirror_mode": {
    "name": "ipython",
    "version": 3
   },
   "file_extension": ".py",
   "mimetype": "text/x-python",
   "name": "python",
   "nbconvert_exporter": "python",
   "pygments_lexer": "ipython3",
   "version": "3.7.1"
  }
 },
 "nbformat": 4,
 "nbformat_minor": 2
}
